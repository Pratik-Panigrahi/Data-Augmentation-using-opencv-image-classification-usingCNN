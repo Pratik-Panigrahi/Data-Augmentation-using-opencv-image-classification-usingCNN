{
  "nbformat": 4,
  "nbformat_minor": 0,
  "metadata": {
    "colab": {
      "name": "opencv+augmenttion+CNN.ipynb",
      "provenance": [],
      "collapsed_sections": []
    },
    "kernelspec": {
      "name": "python3",
      "display_name": "Python 3"
    }
  },
  "cells": [
    {
      "cell_type": "code",
      "metadata": {
        "id": "qehOiNinmFCD",
        "colab_type": "code",
        "colab": {
          "base_uri": "https://localhost:8080/",
          "height": 122
        },
        "outputId": "1da75688-357c-4e68-c3a3-15a2c94a5ac4"
      },
      "source": [
        "from google.colab import drive\n",
        "drive.mount('/content/gdrive')"
      ],
      "execution_count": null,
      "outputs": [
        {
          "output_type": "stream",
          "text": [
            "Go to this URL in a browser: https://accounts.google.com/o/oauth2/auth?client_id=947318989803-6bn6qk8qdgf4n4g3pfee6491hc0brc4i.apps.googleusercontent.com&redirect_uri=urn%3aietf%3awg%3aoauth%3a2.0%3aoob&response_type=code&scope=email%20https%3a%2f%2fwww.googleapis.com%2fauth%2fdocs.test%20https%3a%2f%2fwww.googleapis.com%2fauth%2fdrive%20https%3a%2f%2fwww.googleapis.com%2fauth%2fdrive.photos.readonly%20https%3a%2f%2fwww.googleapis.com%2fauth%2fpeopleapi.readonly\n",
            "\n",
            "Enter your authorization code:\n",
            "··········\n",
            "Mounted at /content/gdrive\n"
          ],
          "name": "stdout"
        }
      ]
    },
    {
      "cell_type": "code",
      "metadata": {
        "id": "aUgFzUOKmPNc",
        "colab_type": "code",
        "colab": {
          "base_uri": "https://localhost:8080/",
          "height": 51
        },
        "outputId": "2fc51ec7-6544-417a-fad3-d4ab271650dc"
      },
      "source": [
        "%tensorflow_version 1.x\n",
        "import tensorflow as tf\n",
        "print(tf.__version__)"
      ],
      "execution_count": null,
      "outputs": [
        {
          "output_type": "stream",
          "text": [
            "TensorFlow 1.x selected.\n",
            "1.15.2\n"
          ],
          "name": "stdout"
        }
      ]
    },
    {
      "cell_type": "code",
      "metadata": {
        "id": "LzsqC88rn252",
        "colab_type": "code",
        "colab": {}
      },
      "source": [
        "from keras.preprocessing.image import ImageDataGenerator, load_img\n",
        "from keras.models import Sequential\n",
        "from keras.layers import Conv2D, MaxPooling2D\n",
        "from keras.layers import Activation, Dropout, Flatten, Dense\n",
        "from keras import backend as K\n",
        "from keras import optimizers\n",
        "import scipy\n",
        "\n",
        "\n",
        "from keras.models import load_model\n",
        "from keras.preprocessing import image\n",
        "import numpy as np\n",
        "from os import listdir\n",
        "from os.path import isfile, join"
      ],
      "execution_count": null,
      "outputs": []
    },
    {
      "cell_type": "code",
      "metadata": {
        "id": "hE9F3g6Bn8qU",
        "colab_type": "code",
        "colab": {}
      },
      "source": [
        "import cv2\n",
        "from skimage.exposure import rescale_intensity\n",
        "from skimage.segmentation import slic\n",
        "from skimage.util import img_as_float\n",
        "from skimage import io\n",
        "import numpy as np"
      ],
      "execution_count": null,
      "outputs": []
    },
    {
      "cell_type": "markdown",
      "metadata": {
        "id": "kPavhrefoKQm",
        "colab_type": "text"
      },
      "source": [
        "Data Augmentation using OpenCV"
      ]
    },
    {
      "cell_type": "code",
      "metadata": {
        "id": "ZVUDCw0soA3z",
        "colab_type": "code",
        "colab": {}
      },
      "source": [
        "Folder_name=\"images\"\n",
        "Extension=\".jpg\""
      ],
      "execution_count": null,
      "outputs": []
    },
    {
      "cell_type": "code",
      "metadata": {
        "id": "oycga5aUoh6y",
        "colab_type": "code",
        "colab": {}
      },
      "source": [
        "#RESIZE\n",
        "def resize_image(image,w,h):\n",
        "    image=cv2.resize(image,(w,h))\n",
        "    cv2.imwrite(Folder_name+\"/Resize-\"+str(w)+\"*\"+str(h)+Extension, image)"
      ],
      "execution_count": null,
      "outputs": []
    },
    {
      "cell_type": "code",
      "metadata": {
        "id": "E_xDoq0Toidq",
        "colab_type": "code",
        "colab": {}
      },
      "source": [
        "#rotation\n",
        "def rotate_image(image,deg):\n",
        "    rows, cols,c = image.shape\n",
        "    M = cv2.getRotationMatrix2D((cols/2,rows/2), deg, 1)\n",
        "    image = cv2.warpAffine(image, M, (cols, rows))\n",
        "    cv2.imwrite(Folder_name + \"/Rotate-\" + str(deg) + Extension, image)"
      ],
      "execution_count": null,
      "outputs": []
    },
    {
      "cell_type": "code",
      "metadata": {
        "id": "lZeQe_LnorJs",
        "colab_type": "code",
        "colab": {}
      },
      "source": [
        "#sharp image\n",
        "def sharpen_image(image):\n",
        "    kernel = np.array([[0, -1, 0], [-1, 5, -1], [0, -1, 0]])\n",
        "    image = cv2.filter2D(image, -1, kernel)\n",
        "    cv2.imwrite(Folder_name+\"/Sharpen-\"+Extension, image)"
      ],
      "execution_count": null,
      "outputs": []
    },
    {
      "cell_type": "code",
      "metadata": {
        "id": "NjnPoX9ootq2",
        "colab_type": "code",
        "colab": {}
      },
      "source": [
        "#flipping\n",
        "def flip_image(image,dir):\n",
        "    image = cv2.flip(image, dir)\n",
        "    cv2.imwrite(Folder_name + \"/flip-\" + str(dir)+Extension, image)"
      ],
      "execution_count": null,
      "outputs": []
    },
    {
      "cell_type": "code",
      "metadata": {
        "id": "oWTO-jp3owT6",
        "colab_type": "code",
        "colab": {}
      },
      "source": [
        "#brightness increasing or  decreasing\n",
        "def brightness(image, value):\n",
        "    hsv = cv2.cvtColor(image, cv2.COLOR_BGR2HSV)\n",
        "    h, s, v = cv2.split(hsv)\n",
        "    v = cv2.add(v,value)\n",
        "    v[v > 255] = 255\n",
        "    v[v < 0] = 0\n",
        "    final_hsv = cv2.merge((h, s, v))\n",
        "    image = cv2.cvtColor(final_hsv, cv2.COLOR_HSV2BGR)\n",
        "    cv2.imwrite(Folder_name + \"/brightness-\" + str(value)+Extension, image)"
      ],
      "execution_count": null,
      "outputs": []
    },
    {
      "cell_type": "code",
      "metadata": {
        "id": "uNKErMRPozPa",
        "colab_type": "code",
        "colab": {}
      },
      "source": [
        "image_file=r\"C:\\Users\\PRATIK PANIGRAHI\\Desktop\\opencv(face recognition\\images\\289.jpg\"\n",
        "image=cv2.imread(image_file)\n",
        "resize_image(image,450,400)"
      ],
      "execution_count": null,
      "outputs": []
    },
    {
      "cell_type": "code",
      "metadata": {
        "id": "yGZ35Mjao4AD",
        "colab_type": "code",
        "colab": {}
      },
      "source": [
        "#creating new augmented image\n",
        "rotate_image(image,30)\n",
        "rotate_image(image,-30)\n",
        "sharpen_image(image)\n",
        "flip_image(image,0)\n",
        "flip_image(image,1)\n",
        "brightness(image, 100)\n",
        "brightness(image, 120)\n",
        "brightness(image, 130)\n",
        "brightness(image, 150)\n",
        "brightness(image, 100)\n",
        "brightness(image, 80)\n",
        "brightness(image, 50)"
      ],
      "execution_count": null,
      "outputs": []
    },
    {
      "cell_type": "markdown",
      "metadata": {
        "id": "Z0s1PcE902GI",
        "colab_type": "text"
      },
      "source": [
        "For this process i have both used jupyter notebook and google colab."
      ]
    },
    {
      "cell_type": "markdown",
      "metadata": {
        "id": "nqYD4BWE0Nln",
        "colab_type": "text"
      },
      "source": [
        "In this technique i simply passed a path of single image and i got a 12 preprocess imgages."
      ]
    },
    {
      "cell_type": "markdown",
      "metadata": {
        "id": "Cs68DgiqzZfH",
        "colab_type": "text"
      },
      "source": [
        "Previously i have around 300 images in my trainning set after scrapping from ecommerce website but after using data augmentation using opencv i got around 1621 nos of images in my trainning set."
      ]
    },
    {
      "cell_type": "markdown",
      "metadata": {
        "id": "u6KaPrbWpNCc",
        "colab_type": "text"
      },
      "source": [
        "Image Classification using CNN"
      ]
    },
    {
      "cell_type": "code",
      "metadata": {
        "id": "35ENIXMuo6oo",
        "colab_type": "code",
        "colab": {}
      },
      "source": [
        "input_shape=(150,150,3)\n",
        "img_width=150\n",
        "img_height=150\n",
        "\n",
        "\n",
        "nb_train_samples=1621\n",
        "nb_validation_samples=82\n",
        "batch_size=32\n",
        "epochs=10\n",
        "\n",
        "train_data_dir='/content/gdrive/My Drive/Colab Notebooks/Opencv_augmentation/train_image'\n",
        "validation_data_dir='/content/gdrive/My Drive/Colab Notebooks/Opencv_augmentation/test_image'"
      ],
      "execution_count": null,
      "outputs": []
    },
    {
      "cell_type": "code",
      "metadata": {
        "id": "ptCwdqHEp-r_",
        "colab_type": "code",
        "colab": {
          "base_uri": "https://localhost:8080/",
          "height": 51
        },
        "outputId": "9c3b17e2-b4c0-4576-e39c-acff99700ed7"
      },
      "source": [
        "#rescaling data\n",
        "datagen=ImageDataGenerator(rescale=1./255)\n",
        "\n",
        "train_generator=datagen.flow_from_directory(\n",
        "         train_data_dir,\n",
        "         target_size=(img_width,img_height),\n",
        "         batch_size=8,\n",
        "         class_mode='categorical')\n",
        "\n",
        "validation_generator=datagen.flow_from_directory(\n",
        "         validation_data_dir,\n",
        "         target_size=(img_width,img_height),\n",
        "         batch_size=16,\n",
        "         class_mode='categorical')"
      ],
      "execution_count": null,
      "outputs": [
        {
          "output_type": "stream",
          "text": [
            "Found 1621 images belonging to 3 classes.\n",
            "Found 82 images belonging to 3 classes.\n"
          ],
          "name": "stdout"
        }
      ]
    },
    {
      "cell_type": "code",
      "metadata": {
        "id": "Iw-866fmqIDe",
        "colab_type": "code",
        "colab": {}
      },
      "source": [
        "#model building\n",
        "model = Sequential()\n",
        "model.add(Conv2D(32, (3, 3), input_shape=input_shape))\n",
        "model.add(Activation('relu'))\n",
        "model.add(MaxPooling2D(pool_size=(2, 2)))\n",
        "model.add(Dropout(0.2))\n",
        "\n",
        "model.add(Conv2D(32, (3, 3)))\n",
        "model.add(Activation('relu'))\n",
        "model.add(MaxPooling2D(pool_size=(2, 2)))\n",
        "model.add(Dropout(0.2))\n",
        "\n",
        "model.add(Conv2D(64, (3, 3)))\n",
        "model.add(Activation('relu'))\n",
        "model.add(MaxPooling2D(pool_size=(2, 2)))\n",
        "model.add(Dropout(0.2))\n",
        "\n",
        "#flatten layer\n",
        "model.add(Flatten()) # Output convert into one dimension layer and will go to Dense layer\n",
        "model.add(Dense(64))\n",
        "model.add(Activation('relu'))\n",
        "model.add(Dropout(0.5))\n",
        "model.add(Dense(1))\n",
        "model.add(Dense(3, activation='softmax'))"
      ],
      "execution_count": null,
      "outputs": []
    },
    {
      "cell_type": "code",
      "metadata": {
        "id": "8-0Pu4kmqN_F",
        "colab_type": "code",
        "colab": {
          "base_uri": "https://localhost:8080/",
          "height": 765
        },
        "outputId": "bf2e1145-771d-4ee1-ad6e-4bc4ead6a949"
      },
      "source": [
        "model.summary()"
      ],
      "execution_count": null,
      "outputs": [
        {
          "output_type": "stream",
          "text": [
            "Model: \"sequential_2\"\n",
            "_________________________________________________________________\n",
            "Layer (type)                 Output Shape              Param #   \n",
            "=================================================================\n",
            "conv2d_4 (Conv2D)            (None, 148, 148, 32)      896       \n",
            "_________________________________________________________________\n",
            "activation_5 (Activation)    (None, 148, 148, 32)      0         \n",
            "_________________________________________________________________\n",
            "max_pooling2d_4 (MaxPooling2 (None, 74, 74, 32)        0         \n",
            "_________________________________________________________________\n",
            "dropout_5 (Dropout)          (None, 74, 74, 32)        0         \n",
            "_________________________________________________________________\n",
            "conv2d_5 (Conv2D)            (None, 72, 72, 32)        9248      \n",
            "_________________________________________________________________\n",
            "activation_6 (Activation)    (None, 72, 72, 32)        0         \n",
            "_________________________________________________________________\n",
            "max_pooling2d_5 (MaxPooling2 (None, 36, 36, 32)        0         \n",
            "_________________________________________________________________\n",
            "dropout_6 (Dropout)          (None, 36, 36, 32)        0         \n",
            "_________________________________________________________________\n",
            "conv2d_6 (Conv2D)            (None, 34, 34, 64)        18496     \n",
            "_________________________________________________________________\n",
            "activation_7 (Activation)    (None, 34, 34, 64)        0         \n",
            "_________________________________________________________________\n",
            "max_pooling2d_6 (MaxPooling2 (None, 17, 17, 64)        0         \n",
            "_________________________________________________________________\n",
            "dropout_7 (Dropout)          (None, 17, 17, 64)        0         \n",
            "_________________________________________________________________\n",
            "flatten_2 (Flatten)          (None, 18496)             0         \n",
            "_________________________________________________________________\n",
            "dense_4 (Dense)              (None, 64)                1183808   \n",
            "_________________________________________________________________\n",
            "activation_8 (Activation)    (None, 64)                0         \n",
            "_________________________________________________________________\n",
            "dropout_8 (Dropout)          (None, 64)                0         \n",
            "_________________________________________________________________\n",
            "dense_5 (Dense)              (None, 1)                 65        \n",
            "_________________________________________________________________\n",
            "dense_6 (Dense)              (None, 3)                 6         \n",
            "=================================================================\n",
            "Total params: 1,212,519\n",
            "Trainable params: 1,212,519\n",
            "Non-trainable params: 0\n",
            "_________________________________________________________________\n"
          ],
          "name": "stdout"
        }
      ]
    },
    {
      "cell_type": "code",
      "metadata": {
        "id": "SfCa_BMyqTEP",
        "colab_type": "code",
        "colab": {}
      },
      "source": [
        "from keras.optimizers import Adam\n",
        "opt = Adam(lr=0.001)\n",
        "model.compile(optimizer=opt, loss='categorical_crossentropy', metrics=['accuracy'])"
      ],
      "execution_count": null,
      "outputs": []
    },
    {
      "cell_type": "code",
      "metadata": {
        "id": "LdnQKuumqXfn",
        "colab_type": "code",
        "colab": {
          "base_uri": "https://localhost:8080/",
          "height": 411
        },
        "outputId": "e899b99e-f185-4d51-b0d8-223b8951b107"
      },
      "source": [
        "history=model.fit_generator(\n",
        "    train_generator,\n",
        "    steps_per_epoch=nb_train_samples//batch_size,\n",
        "    epochs=epochs,\n",
        "    validation_data=validation_generator,\n",
        "    validation_steps=nb_validation_samples//batch_size)"
      ],
      "execution_count": null,
      "outputs": [
        {
          "output_type": "stream",
          "text": [
            "WARNING:tensorflow:From /usr/local/lib/python3.6/dist-packages/keras/backend/tensorflow_backend.py:422: The name tf.global_variables is deprecated. Please use tf.compat.v1.global_variables instead.\n",
            "\n",
            "Epoch 1/10\n",
            "50/50 [==============================] - 132s 3s/step - loss: 1.1818 - accuracy: 0.4450 - val_loss: 0.9812 - val_accuracy: 0.6875\n",
            "Epoch 2/10\n",
            "50/50 [==============================] - 128s 3s/step - loss: 0.7770 - accuracy: 0.6675 - val_loss: 0.7734 - val_accuracy: 0.6250\n",
            "Epoch 3/10\n",
            "50/50 [==============================] - 127s 3s/step - loss: 0.8150 - accuracy: 0.6050 - val_loss: 0.4397 - val_accuracy: 0.6111\n",
            "Epoch 4/10\n",
            "50/50 [==============================] - 125s 3s/step - loss: 0.7376 - accuracy: 0.6400 - val_loss: 0.7822 - val_accuracy: 0.5938\n",
            "Epoch 5/10\n",
            "50/50 [==============================] - 19s 386ms/step - loss: 0.6584 - accuracy: 0.6776 - val_loss: 0.8952 - val_accuracy: 0.6562\n",
            "Epoch 6/10\n",
            "50/50 [==============================] - 13s 261ms/step - loss: 0.6829 - accuracy: 0.6550 - val_loss: 6.2587e-04 - val_accuracy: 0.7222\n",
            "Epoch 7/10\n",
            "50/50 [==============================] - 13s 265ms/step - loss: 0.6034 - accuracy: 0.6875 - val_loss: 0.7098 - val_accuracy: 0.7188\n",
            "Epoch 8/10\n",
            "50/50 [==============================] - 13s 261ms/step - loss: 0.6341 - accuracy: 0.6750 - val_loss: 0.6598 - val_accuracy: 0.6562\n",
            "Epoch 9/10\n",
            "50/50 [==============================] - 13s 260ms/step - loss: 0.6754 - accuracy: 0.6775 - val_loss: 1.0837 - val_accuracy: 0.5556\n",
            "Epoch 10/10\n",
            "50/50 [==============================] - 13s 265ms/step - loss: 0.6073 - accuracy: 0.7175 - val_loss: 0.5980 - val_accuracy: 0.7500\n"
          ],
          "name": "stdout"
        }
      ]
    },
    {
      "cell_type": "code",
      "metadata": {
        "id": "ITfiIU5nq214",
        "colab_type": "code",
        "colab": {
          "base_uri": "https://localhost:8080/",
          "height": 573
        },
        "outputId": "f0d0f3bb-474f-4a44-ce50-901c148515dc"
      },
      "source": [
        "# Plot training & validation accuracy values\n",
        "import matplotlib.pyplot as plt\n",
        "%matplotlib inline\n",
        "plt.plot(history.history['accuracy'])\n",
        "plt.plot(history.history['val_accuracy'])\n",
        "plt.title('Model accuracy')\n",
        "plt.ylabel('Accuracy')\n",
        "plt.xlabel('Epoch')\n",
        "plt.legend(['Train', 'Val'], loc='upper left')\n",
        "plt.show()\n",
        "\n",
        "# Plot training & validation loss values\n",
        "plt.plot(history.history['loss'])\n",
        "plt.plot(history.history['val_loss'])\n",
        "plt.title('Model loss')\n",
        "plt.ylabel('Loss')\n",
        "plt.xlabel('Epoch')\n",
        "plt.legend(['Train', 'Val'], loc='upper left')\n",
        "plt.show()"
      ],
      "execution_count": null,
      "outputs": [
        {
          "output_type": "display_data",
          "data": {
            "image/png": "[encoded data removed]",
            "text/plain": [
              "<Figure size 432x288 with 1 Axes>"
            ]
          },
          "metadata": {
            "tags": [],
            "needs_background": "light"
          }
        },
        {
          "output_type": "display_data",
          "data": {
            "image/png": "[encoded data removed]",
            "text/plain": [
              "<Figure size 432x288 with 1 Axes>"
            ]
          },
          "metadata": {
            "tags": [],
            "needs_background": "light"
          }
        }
      ]
    },
    {
      "cell_type": "markdown",
      "metadata": {
        "id": "0TL0zMh-upuo",
        "colab_type": "text"
      },
      "source": [
        "Approach 2"
      ]
    },
    {
      "cell_type": "code",
      "metadata": {
        "id": "JSeXQ4ySvhDH",
        "colab_type": "code",
        "colab": {
          "base_uri": "https://localhost:8080/",
          "height": 51
        },
        "outputId": "4a2f5ae5-5f5f-4885-f3f5-d7ee1bf9b9c9"
      },
      "source": [
        "#rescaling data\n",
        "datagen=ImageDataGenerator(rescale=1./255)\n",
        "\n",
        "train_generator=datagen.flow_from_directory(\n",
        "         train_data_dir,\n",
        "         target_size=(img_width,img_height),\n",
        "         batch_size=8,\n",
        "         class_mode='categorical')\n",
        "\n",
        "validation_generator=datagen.flow_from_directory(\n",
        "         validation_data_dir,\n",
        "         target_size=(img_width,img_height),\n",
        "         batch_size=16,\n",
        "         class_mode='categorical')"
      ],
      "execution_count": null,
      "outputs": [
        {
          "output_type": "stream",
          "text": [
            "Found 1621 images belonging to 3 classes.\n",
            "Found 82 images belonging to 3 classes.\n"
          ],
          "name": "stdout"
        }
      ]
    },
    {
      "cell_type": "code",
      "metadata": {
        "id": "Bn6vVHlJusg7",
        "colab_type": "code",
        "colab": {}
      },
      "source": [
        "#model building\n",
        "model = Sequential()\n",
        "model.add(Conv2D(32, (3, 3), input_shape=input_shape))\n",
        "model.add(Activation('relu'))\n",
        "model.add(MaxPooling2D(pool_size=(2, 2)))\n",
        "model.add(Dropout(0.2))\n",
        "\n",
        "model.add(Conv2D(64, (3, 3)))\n",
        "model.add(Activation('relu'))\n",
        "model.add(MaxPooling2D(pool_size=(2, 2)))\n",
        "model.add(Dropout(0.2))\n",
        "\n",
        "model.add(Conv2D(64, (3, 3)))\n",
        "model.add(Activation('relu'))\n",
        "model.add(MaxPooling2D(pool_size=(2, 2)))\n",
        "model.add(Dropout(0.2))\n",
        "\n",
        "#flatten layer\n",
        "model.add(Flatten()) # Output convert into one dimension layer and will go to Dense layer\n",
        "model.add(Dense(64, activation='relu', kernel_initializer='he_uniform'))\n",
        "model.add(Dropout(0.4))\n",
        "model.add(Dense(3, activation='softmax'))"
      ],
      "execution_count": null,
      "outputs": []
    },
    {
      "cell_type": "code",
      "metadata": {
        "id": "Ac9LhX7kuyfE",
        "colab_type": "code",
        "colab": {}
      },
      "source": [
        "from keras.optimizers import Adam\n",
        "opt = Adam(lr=0.001)\n",
        "model.compile(optimizer=opt, loss='categorical_crossentropy', metrics=['accuracy'])\n",
        "#model saving\n",
        "model.save('variation_dropout.h5')"
      ],
      "execution_count": null,
      "outputs": []
    },
    {
      "cell_type": "code",
      "metadata": {
        "id": "7CGeNU7iu1s9",
        "colab_type": "code",
        "colab": {}
      },
      "source": [
        ""
      ],
      "execution_count": null,
      "outputs": []
    },
    {
      "cell_type": "code",
      "metadata": {
        "id": "ynjjl8MLvAap",
        "colab_type": "code",
        "colab": {}
      },
      "source": [
        "from keras.callbacks import ModelCheckpoint, EarlyStopping\n",
        "checkpoint = ModelCheckpoint(\"variation_dropout.h5\", monitor='val_accuracy', verbose=1, save_best_only=True, save_weights_only=False, mode='auto', period=1)\n",
        "early = EarlyStopping(monitor='val_accuracy', min_delta=0, patience=5, verbose=1, mode='auto')"
      ],
      "execution_count": null,
      "outputs": []
    },
    {
      "cell_type": "code",
      "metadata": {
        "id": "TUK-OfcIvLe4",
        "colab_type": "code",
        "colab": {
          "base_uri": "https://localhost:8080/",
          "height": 697
        },
        "outputId": "7850fa8c-8432-4da2-9b65-99e71a2008f6"
      },
      "source": [
        "from keras.callbacks import ModelCheckpoint, EarlyStopping\n",
        "history=model.fit_generator(\n",
        "    train_generator,\n",
        "    steps_per_epoch=nb_train_samples//batch_size,\n",
        "    epochs=epochs,\n",
        "    validation_data=validation_generator,\n",
        "    validation_steps=nb_validation_samples//batch_size,\n",
        "    callbacks=[checkpoint,early])"
      ],
      "execution_count": null,
      "outputs": [
        {
          "output_type": "stream",
          "text": [
            "Epoch 1/10\n",
            "50/50 [==============================] - 17s 347ms/step - loss: 1.1872 - accuracy: 0.4750 - val_loss: 0.9202 - val_accuracy: 0.6562\n",
            "\n",
            "Epoch 00001: val_accuracy improved from -inf to 0.65625, saving model to variation_dropout.h5\n",
            "Epoch 2/10\n",
            "50/50 [==============================] - 17s 335ms/step - loss: 0.7599 - accuracy: 0.6322 - val_loss: 0.4920 - val_accuracy: 0.7500\n",
            "\n",
            "Epoch 00002: val_accuracy improved from 0.65625 to 0.75000, saving model to variation_dropout.h5\n",
            "Epoch 3/10\n",
            "50/50 [==============================] - 17s 336ms/step - loss: 0.5598 - accuracy: 0.7350 - val_loss: 0.8268 - val_accuracy: 0.5000\n",
            "\n",
            "Epoch 00003: val_accuracy did not improve from 0.75000\n",
            "Epoch 4/10\n",
            "50/50 [==============================] - 17s 338ms/step - loss: 0.5560 - accuracy: 0.7300 - val_loss: 0.5164 - val_accuracy: 0.6562\n",
            "\n",
            "Epoch 00004: val_accuracy did not improve from 0.75000\n",
            "Epoch 5/10\n",
            "50/50 [==============================] - 17s 339ms/step - loss: 0.5429 - accuracy: 0.7150 - val_loss: 0.2957 - val_accuracy: 0.7500\n",
            "\n",
            "Epoch 00005: val_accuracy did not improve from 0.75000\n",
            "Epoch 6/10\n",
            "50/50 [==============================] - 17s 331ms/step - loss: 0.4197 - accuracy: 0.8312 - val_loss: 0.5264 - val_accuracy: 0.7222\n",
            "\n",
            "Epoch 00006: val_accuracy did not improve from 0.75000\n",
            "Epoch 7/10\n",
            "50/50 [==============================] - 17s 338ms/step - loss: 0.3874 - accuracy: 0.8375 - val_loss: 0.4213 - val_accuracy: 0.8750\n",
            "\n",
            "Epoch 00007: val_accuracy improved from 0.75000 to 0.87500, saving model to variation_dropout.h5\n",
            "Epoch 8/10\n",
            "50/50 [==============================] - 17s 334ms/step - loss: 0.3766 - accuracy: 0.8300 - val_loss: 0.3878 - val_accuracy: 0.7812\n",
            "\n",
            "Epoch 00008: val_accuracy did not improve from 0.87500\n",
            "Epoch 9/10\n",
            "50/50 [==============================] - 17s 333ms/step - loss: 0.3996 - accuracy: 0.8100 - val_loss: 0.1675 - val_accuracy: 0.7778\n",
            "\n",
            "Epoch 00009: val_accuracy did not improve from 0.87500\n",
            "Epoch 10/10\n",
            "50/50 [==============================] - 17s 338ms/step - loss: 0.3290 - accuracy: 0.8514 - val_loss: 0.6623 - val_accuracy: 0.8438\n",
            "\n",
            "Epoch 00010: val_accuracy did not improve from 0.87500\n"
          ],
          "name": "stdout"
        }
      ]
    },
    {
      "cell_type": "code",
      "metadata": {
        "id": "Rtaur3I8vqIv",
        "colab_type": "code",
        "colab": {
          "base_uri": "https://localhost:8080/",
          "height": 573
        },
        "outputId": "cd1ef8f2-85cf-4018-ecfe-bf7b6fe4f1a1"
      },
      "source": [
        "# Plot training & validation accuracy values\n",
        "import matplotlib.pyplot as plt\n",
        "%matplotlib inline\n",
        "plt.plot(history.history['accuracy'])\n",
        "plt.plot(history.history['val_accuracy'])\n",
        "plt.title('Model accuracy')\n",
        "plt.ylabel('Accuracy')\n",
        "plt.xlabel('Epoch')\n",
        "plt.legend(['Train', 'Val'], loc='upper left')\n",
        "plt.show()\n",
        "\n",
        "# Plot training & validation loss values\n",
        "plt.plot(history.history['loss'])\n",
        "plt.plot(history.history['val_loss'])\n",
        "plt.title('Model loss')\n",
        "plt.ylabel('Loss')\n",
        "plt.xlabel('Epoch')\n",
        "plt.legend(['Train', 'Val'], loc='upper left')\n",
        "plt.show()"
      ],
      "execution_count": null,
      "outputs": [
        {
          "output_type": "display_data",
          "data": {
            "image/png": "[encoded data removed]",
            "text/plain": [
              "<Figure size 432x288 with 1 Axes>"
            ]
          },
          "metadata": {
            "tags": [],
            "needs_background": "light"
          }
        },
        {
          "output_type": "display_data",
          "data": {
            "image/png": "[encoded data removed]",
            "text/plain": [
              "<Figure size 432x288 with 1 Axes>"
            ]
          },
          "metadata": {
            "tags": [],
            "needs_background": "light"
          }
        }
      ]
    },
    {
      "cell_type": "code",
      "metadata": {
        "id": "tXXCMEiswf9k",
        "colab_type": "code",
        "colab": {}
      },
      "source": [
        ""
      ],
      "execution_count": null,
      "outputs": []
    }
  ]
}